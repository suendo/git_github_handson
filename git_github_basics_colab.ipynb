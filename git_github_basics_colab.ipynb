{
  "nbformat": 4,
  "nbformat_minor": 0,
  "metadata": {
    "colab": {
      "provenance": [],
      "include_colab_link": true
    },
    "kernelspec": {
      "name": "python3",
      "display_name": "Python 3"
    },
    "language_info": {
      "name": "python"
    }
  },
  "cells": [
    {
      "cell_type": "markdown",
      "metadata": {
        "id": "view-in-github",
        "colab_type": "text"
      },
      "source": [
        "<a href=\"https://colab.research.google.com/github/suendo/git_github_handson/blob/main/git_github_basics_colab.ipynb\" target=\"_parent\"><img src=\"https://colab.research.google.com/assets/colab-badge.svg\" alt=\"Open In Colab\"/></a>"
      ]
    },
    {
      "cell_type": "markdown",
      "metadata": {
        "id": "git-github-title"
      },
      "source": [
        "# Git & GitHub 入門ガイド (Google Colab版)\n",
        "\n",
        "このノートブックでは、Google Colab環境でGitとGitHubの基本的な操作を学習します。\n",
        "\n",
        "## 目次\n",
        "1. 環境準備（Google Driveのマウント）\n",
        "2. Gitの初期設定\n",
        "3. Gitの基本操作\n",
        "4. GitHubとの連携\n",
        "5. ブランチとマージ\n",
        "6. 実践演習"
      ]
    },
    {
      "cell_type": "markdown",
      "metadata": {
        "id": "section-1"
      },
      "source": [
        "## 1. 環境準備\n",
        "\n",
        "まず、Google Driveをマウントして、永続的な作業環境を準備します。"
      ]
    },
    {
      "cell_type": "code",
      "metadata": {
        "id": "mount-drive"
      },
      "source": [
        "from google.colab import drive\n",
        "drive.mount('/content/drive')"
      ],
      "execution_count": null,
      "outputs": []
    },
    {
      "cell_type": "code",
      "metadata": {
        "id": "create-workspace"
      },
      "source": [
        "import os\n",
        "\n",
        "# 作業ディレクトリの作成\n",
        "workspace_path = '/content/drive/MyDrive/git_tutorial'\n",
        "if not os.path.exists(workspace_path):\n",
        "    os.makedirs(workspace_path)\n",
        "    print(f\"作業ディレクトリを作成しました: {workspace_path}\")\n",
        "else:\n",
        "    print(f\"作業ディレクトリは既に存在します: {workspace_path}\")\n",
        "\n",
        "# 作業ディレクトリに移動\n",
        "os.chdir(workspace_path)\n",
        "!pwd"
      ],
      "execution_count": null,
      "outputs": []
    },
    {
      "cell_type": "markdown",
      "metadata": {
        "id": "section-2"
      },
      "source": [
        "## 2. Gitの初期設定\n",
        "\n",
        "Gitを使用する前に、ユーザー名とメールアドレスを設定する必要があります。"
      ]
    },
    {
      "cell_type": "code",
      "metadata": {
        "id": "check-git-version"
      },
      "source": [
        "# Gitのバージョン確認\n",
        "!git --version"
      ],
      "execution_count": null,
      "outputs": []
    },
    {
      "cell_type": "code",
      "metadata": {
        "id": "git-config"
      },
      "source": [
        "# ユーザー名とメールアドレスの設定\n",
        "# ※ 以下の値を自分の情報に変更してください\n",
        "!git config --global user.name \"あなたの名前\"\n",
        "!git config --global user.email \"your.email@example.com\"\n",
        "\n",
        "# 設定の確認\n",
        "print(\"=== Git設定情報 ===\")\n",
        "!git config --global user.name\n",
        "!git config --global user.email\n",
        "\n",
        "# その他の推奨設定\n",
        "!git config --global init.defaultBranch main  # デフォルトブランチ名をmainに設定\n",
        "!git config --global core.editor \"nano\"      # エディタの設定（Colabではnanoが使いやすい）"
      ],
      "execution_count": null,
      "outputs": []
    },
    {
      "cell_type": "markdown",
      "metadata": {
        "id": "section-3"
      },
      "source": [
        "## 3. Gitの基本操作\n",
        "\n",
        "### 3.1 リポジトリの初期化"
      ]
    },
    {
      "cell_type": "code",
      "metadata": {
        "id": "create-project"
      },
      "source": [
        "# プロジェクトディレクトリの作成\n",
        "project_name = \"my_first_git_project\"\n",
        "project_path = os.path.join(workspace_path, project_name)\n",
        "\n",
        "if not os.path.exists(project_path):\n",
        "    os.makedirs(project_path)\n",
        "\n",
        "os.chdir(project_path)\n",
        "print(f\"現在のディレクトリ: {os.getcwd()}\")"
      ],
      "execution_count": null,
      "outputs": []
    },
    {
      "cell_type": "code",
      "metadata": {
        "id": "git-init"
      },
      "source": [
        "# Gitリポジトリの初期化\n",
        "!git init\n",
        "\n",
        "# .gitディレクトリの確認\n",
        "!ls -la"
      ],
      "execution_count": null,
      "outputs": []
    },
    {
      "cell_type": "markdown",
      "metadata": {
        "id": "section-3-2"
      },
      "source": [
        "### 3.2 ファイルの作成とステージング"
      ]
    },
    {
      "cell_type": "code",
      "metadata": {
        "id": "create-files"
      },
      "source": [
        "# READMEファイルの作成\n",
        "readme_content = \"\"\"# My First Git Project\n",
        "\n",
        "このプロジェクトはGitの学習用プロジェクトです。\n",
        "\n",
        "## 学習内容\n",
        "- Gitの基本コマンド\n",
        "- GitHubとの連携\n",
        "- ブランチ操作\n",
        "\"\"\"\n",
        "\n",
        "with open('README.md', 'w', encoding='utf-8') as f:\n",
        "    f.write(readme_content)\n",
        "\n",
        "print(\"README.mdを作成しました\")\n",
        "!cat README.md"
      ],
      "execution_count": null,
      "outputs": []
    },
    {
      "cell_type": "code",
      "metadata": {
        "id": "create-python-file"
      },
      "source": [
        "# Pythonファイルの作成\n",
        "python_content = \"\"\"def hello_git():\n",
        "    print(\"Hello, Git!\")\n",
        "    print(\"Gitの学習を始めましょう！\")\n",
        "\n",
        "if __name__ == \"__main__\":\n",
        "    hello_git()\n",
        "\"\"\"\n",
        "\n",
        "with open('hello_git.py', 'w', encoding='utf-8') as f:\n",
        "    f.write(python_content)\n",
        "\n",
        "print(\"hello_git.pyを作成しました\")\n",
        "!python hello_git.py"
      ],
      "execution_count": null,
      "outputs": []
    },
    {
      "cell_type": "markdown",
      "metadata": {
        "id": "section-3-3"
      },
      "source": [
        "### 3.3 ステータスの確認とステージング"
      ]
    },
    {
      "cell_type": "code",
      "metadata": {
        "id": "git-status"
      },
      "source": [
        "# Gitのステータス確認\n",
        "!git status"
      ],
      "execution_count": null,
      "outputs": []
    },
    {
      "cell_type": "code",
      "metadata": {
        "id": "git-add"
      },
      "source": [
        "# ファイルをステージングエリアに追加\n",
        "!git add README.md\n",
        "!git add hello_git.py\n",
        "\n",
        "# または全てのファイルを一度に追加\n",
        "# !git add .\n",
        "\n",
        "# ステータスを再確認\n",
        "!git status"
      ],
      "execution_count": null,
      "outputs": []
    },
    {
      "cell_type": "markdown",
      "metadata": {
        "id": "section-3-4"
      },
      "source": [
        "### 3.4 コミット"
      ]
    },
    {
      "cell_type": "code",
      "metadata": {
        "id": "git-commit"
      },
      "source": [
        "# 最初のコミット\n",
        "!git commit -m \"初回コミット: READMEとhello_git.pyを追加\"\n",
        "\n",
        "# コミット履歴の確認\n",
        "!git log --oneline"
      ],
      "execution_count": null,
      "outputs": []
    },
    {
      "cell_type": "markdown",
      "metadata": {
        "id": "section-3-5"
      },
      "source": [
        "### 3.5 ファイルの変更と差分確認"
      ]
    },
    {
      "cell_type": "code",
      "metadata": {
        "id": "modify-file"
      },
      "source": [
        "# hello_git.pyを修正\n",
        "updated_content = \"\"\"def hello_git():\n",
        "    print(\"Hello, Git!\")\n",
        "    print(\"Gitの学習を始めましょう！\")\n",
        "\n",
        "def git_commands():\n",
        "    commands = [\n",
        "        \"git init - リポジトリの初期化\",\n",
        "        \"git add - ファイルのステージング\",\n",
        "        \"git commit - 変更の記録\",\n",
        "        \"git status - 状態の確認\",\n",
        "        \"git log - 履歴の確認\"\n",
        "    ]\n",
        "\n",
        "    print(\"\\n基本的なGitコマンド:\")\n",
        "    for cmd in commands:\n",
        "        print(f\"  - {cmd}\")\n",
        "\n",
        "if __name__ == \"__main__\":\n",
        "    hello_git()\n",
        "    git_commands()\n",
        "\"\"\"\n",
        "\n",
        "with open('hello_git.py', 'w', encoding='utf-8') as f:\n",
        "    f.write(updated_content)\n",
        "\n",
        "print(\"hello_git.pyを更新しました\")"
      ],
      "execution_count": null,
      "outputs": []
    },
    {
      "cell_type": "code",
      "metadata": {
        "id": "git-diff"
      },
      "source": [
        "# 変更内容の確認\n",
        "!git diff"
      ],
      "execution_count": null,
      "outputs": []
    },
    {
      "cell_type": "code",
      "metadata": {
        "id": "commit-changes"
      },
      "source": [
        "# 変更をステージングしてコミット\n",
        "!git add hello_git.py\n",
        "!git commit -m \"git_commands関数を追加\"\n",
        "\n",
        "# コミット履歴の詳細表示\n",
        "!git log --graph --pretty=format:'%Cred%h%Creset -%C(yellow)%d%Creset %s %Cgreen(%cr) %C(bold blue)<%an>%Creset' --abbrev-commit"
      ],
      "execution_count": null,
      "outputs": []
    },
    {
      "cell_type": "markdown",
      "metadata": {
        "id": "section-4"
      },
      "source": [
        "## 4. GitHubとの連携\n",
        "\n",
        "### 4.1 GitHubアクセストークンの設定\n",
        "\n",
        "GitHubとの連携には個人アクセストークン（PAT）が必要です。\n",
        "\n",
        "1. GitHub.comにログイン\n",
        "2. Settings → Developer settings → Personal access tokens → Tokens (classic)\n",
        "3. \"Generate new token\"をクリック\n",
        "4. 必要な権限（repo）を選択して生成"
      ]
    },
    {
      "cell_type": "code",
      "metadata": {
        "id": "github-token"
      },
      "source": [
        "# GitHubトークンの設定（実際のトークンに置き換えてください）\n",
        "# 注意: トークンは秘密情報なので、共有しないでください\n",
        "import getpass\n",
        "\n",
        "github_token = getpass.getpass(\"GitHubアクセストークンを入力: \")\n",
        "github_username = input(\"GitHubユーザー名を入力: \")"
      ],
      "execution_count": null,
      "outputs": []
    },
    {
      "cell_type": "markdown",
      "metadata": {
        "id": "section-4-2"
      },
      "source": [
        "### 4.2 リモートリポジトリの設定（既存のGitHubリポジトリを使用）"
      ]
    },
    {
      "cell_type": "code",
      "metadata": {
        "id": "add-remote"
      },
      "source": [
        "# リモートリポジトリのURL設定\n",
        "# 注意: 事前にGitHubでリポジトリを作成しておく必要があります\n",
        "repo_name = input(\"GitHubリポジトリ名を入力（例: my-first-repo）: \")\n",
        "remote_url = f\"https://{github_token}@github.com/{github_username}/{repo_name}.git\"\n",
        "\n",
        "# リモートリポジトリの追加\n",
        "!git remote add origin {remote_url}\n",
        "\n",
        "# リモートの確認\n",
        "!git remote -v"
      ],
      "execution_count": null,
      "outputs": []
    },
    {
      "cell_type": "markdown",
      "metadata": {
        "id": "section-4-3"
      },
      "source": [
        "### 4.3 プッシュとプル"
      ]
    },
    {
      "cell_type": "code",
      "metadata": {
        "id": "git-push"
      },
      "source": [
        "# 最初のプッシュ（-uオプションで上流ブランチを設定）\n",
        "!git push -u origin main\n",
        "\n",
        "# エラーが出た場合は、ブランチ名を確認\n",
        "!git branch"
      ],
      "execution_count": null,
      "outputs": []
    },
    {
      "cell_type": "code",
      "metadata": {
        "id": "create-gitignore"
      },
      "source": [
        "# .gitignoreファイルの作成\n",
        "gitignore_content = \"\"\"# Python\n",
        "__pycache__/\n",
        "*.py[cod]\n",
        "*$py.class\n",
        "*.so\n",
        ".Python\n",
        "env/\n",
        "venv/\n",
        "\n",
        "# Jupyter Notebook\n",
        ".ipynb_checkpoints\n",
        "\n",
        "# IDE\n",
        ".vscode/\n",
        ".idea/\n",
        "\n",
        "# OS\n",
        ".DS_Store\n",
        "Thumbs.db\n",
        "\n",
        "# その他\n",
        "*.log\n",
        "*.tmp\n",
        "\"\"\"\n",
        "\n",
        "with open('.gitignore', 'w') as f:\n",
        "    f.write(gitignore_content)\n",
        "\n",
        "print(\".gitignoreファイルを作成しました\")\n",
        "\n",
        "# .gitignoreをコミット\n",
        "!git add .gitignore\n",
        "!git commit -m \".gitignoreファイルを追加\"\n",
        "!git push"
      ],
      "execution_count": null,
      "outputs": []
    },
    {
      "cell_type": "markdown",
      "metadata": {
        "id": "section-5"
      },
      "source": [
        "## 5. ブランチとマージ\n",
        "\n",
        "### 5.1 ブランチの作成と切り替え"
      ]
    },
    {
      "cell_type": "code",
      "metadata": {
        "id": "create-branch"
      },
      "source": [
        "# 現在のブランチを確認\n",
        "!git branch\n",
        "\n",
        "# 新しいブランチを作成して切り替え\n",
        "!git checkout -b feature/add-calculator\n",
        "\n",
        "# ブランチの確認\n",
        "!git branch"
      ],
      "execution_count": null,
      "outputs": []
    },
    {
      "cell_type": "code",
      "metadata": {
        "id": "add-feature"
      },
      "source": [
        "# 新機能の追加（calculator.py）\n",
        "calculator_content = \"\"\"class Calculator:\n",
        "    def add(self, a, b):\n",
        "        return a + b\n",
        "\n",
        "    def subtract(self, a, b):\n",
        "        return a - b\n",
        "\n",
        "    def multiply(self, a, b):\n",
        "        return a * b\n",
        "\n",
        "    def divide(self, a, b):\n",
        "        if b == 0:\n",
        "            raise ValueError(\"ゼロで除算はできません\")\n",
        "        return a / b\n",
        "\n",
        "# テスト\n",
        "if __name__ == \"__main__\":\n",
        "    calc = Calculator()\n",
        "    print(f\"10 + 5 = {calc.add(10, 5)}\")\n",
        "    print(f\"10 - 5 = {calc.subtract(10, 5)}\")\n",
        "    print(f\"10 * 5 = {calc.multiply(10, 5)}\")\n",
        "    print(f\"10 / 5 = {calc.divide(10, 5)}\")\n",
        "\"\"\"\n",
        "\n",
        "with open('calculator.py', 'w', encoding='utf-8') as f:\n",
        "    f.write(calculator_content)\n",
        "\n",
        "print(\"calculator.pyを作成しました\")\n",
        "!python calculator.py"
      ],
      "execution_count": null,
      "outputs": []
    },
    {
      "cell_type": "code",
      "metadata": {
        "id": "commit-feature"
      },
      "source": [
        "# 新機能をコミット\n",
        "!git add calculator.py\n",
        "!git commit -m \"電卓機能を追加\"\n",
        "\n",
        "# ブランチをプッシュ\n",
        "!git push -u origin feature/add-calculator"
      ],
      "execution_count": null,
      "outputs": []
    },
    {
      "cell_type": "markdown",
      "metadata": {
        "id": "section-5-2"
      },
      "source": [
        "### 5.2 マージ"
      ]
    },
    {
      "cell_type": "code",
      "metadata": {
        "id": "merge-branch"
      },
      "source": [
        "# mainブランチに切り替え\n",
        "!git checkout main\n",
        "\n",
        "# feature/add-calculatorブランチをマージ\n",
        "!git merge feature/add-calculator\n",
        "\n",
        "# マージ結果の確認\n",
        "!git log --oneline --graph --all"
      ],
      "execution_count": null,
      "outputs": []
    },
    {
      "cell_type": "code",
      "metadata": {
        "id": "push-merged"
      },
      "source": [
        "# マージした内容をプッシュ\n",
        "!git push origin main\n",
        "\n",
        "# 不要になったブランチの削除\n",
        "!git branch -d feature/add-calculator\n",
        "!git push origin --delete feature/add-calculator"
      ],
      "execution_count": null,
      "outputs": []
    },
    {
      "cell_type": "markdown",
      "metadata": {
        "id": "section-6"
      },
      "source": [
        "## 6. 実践演習\n",
        "\n",
        "### 演習1: コンフリクトの解決"
      ]
    },
    {
      "cell_type": "code",
      "metadata": {
        "id": "exercise-conflict-1"
      },
      "source": [
        "# 新しいブランチを2つ作成\n",
        "!git checkout -b feature/update-readme-1\n",
        "\n",
        "# README.mdを更新\n",
        "readme_update1 = \"\"\"# My First Git Project\n",
        "\n",
        "このプロジェクトはGitの学習用プロジェクトです。\n",
        "\n",
        "## 学習内容\n",
        "- Gitの基本コマンド\n",
        "- GitHubとの連携\n",
        "- ブランチ操作\n",
        "- コンフリクトの解決 ← Branch 1で追加\n",
        "\n",
        "## 機能\n",
        "- 挨拶機能\n",
        "- 電卓機能\n",
        "\"\"\"\n",
        "\n",
        "with open('README.md', 'w', encoding='utf-8') as f:\n",
        "    f.write(readme_update1)\n",
        "\n",
        "!git add README.md\n",
        "!git commit -m \"README更新: コンフリクトの解決を追加（Branch 1）\"\n",
        "!git checkout main"
      ],
      "execution_count": null,
      "outputs": []
    },
    {
      "cell_type": "code",
      "metadata": {
        "id": "exercise-conflict-2"
      },
      "source": [
        "# 2つ目のブランチ\n",
        "!git checkout -b feature/update-readme-2\n",
        "\n",
        "# README.mdを別の内容で更新\n",
        "readme_update2 = \"\"\"# My First Git Project\n",
        "\n",
        "このプロジェクトはGitの学習用プロジェクトです。\n",
        "\n",
        "## 学習内容\n",
        "- Gitの基本コマンド\n",
        "- GitHubとの連携\n",
        "- ブランチ操作\n",
        "- マージの実践 ← Branch 2で追加\n",
        "\n",
        "## 機能\n",
        "- 挨拶機能\n",
        "- 電卓機能\n",
        "\"\"\"\n",
        "\n",
        "with open('README.md', 'w', encoding='utf-8') as f:\n",
        "    f.write(readme_update2)\n",
        "\n",
        "!git add README.md\n",
        "!git commit -m \"README更新: マージの実践を追加（Branch 2）\"\n",
        "!git checkout main"
      ],
      "execution_count": null,
      "outputs": []
    },
    {
      "cell_type": "code",
      "metadata": {
        "id": "merge-conflict"
      },
      "source": [
        "# 最初のブランチをマージ\n",
        "!git merge feature/update-readme-1\n",
        "\n",
        "# 2つ目のブランチをマージ（コンフリクトが発生）\n",
        "!git merge feature/update-readme-2"
      ],
      "execution_count": null,
      "outputs": []
    },
    {
      "cell_type": "code",
      "metadata": {
        "id": "resolve-conflict"
      },
      "source": [
        "# コンフリクトの状態を確認\n",
        "!git status\n",
        "print(\"\\n=== コンフリクトが発生したファイルの内容 ===\")\n",
        "!cat README.md"
      ],
      "execution_count": null,
      "outputs": []
    },
    {
      "cell_type": "code",
      "metadata": {
        "id": "fix-conflict"
      },
      "source": [
        "# コンフリクトを手動で解決\n",
        "resolved_readme = \"\"\"# My First Git Project\n",
        "\n",
        "このプロジェクトはGitの学習用プロジェクトです。\n",
        "\n",
        "## 学習内容\n",
        "- Gitの基本コマンド\n",
        "- GitHubとの連携\n",
        "- ブランチ操作\n",
        "- コンフリクトの解決\n",
        "- マージの実践\n",
        "\n",
        "## 機能\n",
        "- 挨拶機能\n",
        "- 電卓機能\n",
        "\"\"\"\n",
        "\n",
        "with open('README.md', 'w', encoding='utf-8') as f:\n",
        "    f.write(resolved_readme)\n",
        "\n",
        "# コンフリクトを解決してコミット\n",
        "!git add README.md\n",
        "!git commit -m \"コンフリクトを解決: 両方の変更を統合\"\n",
        "\n",
        "# ログの確認\n",
        "!git log --oneline --graph --all -n 10"
      ],
      "execution_count": null,
      "outputs": []
    },
    {
      "cell_type": "markdown",
      "metadata": {
        "id": "section-7"
      },
      "source": [
        "## 7. 便利なGitコマンド集"
      ]
    },
    {
      "cell_type": "code",
      "metadata": {
        "id": "useful-commands"
      },
      "source": [
        "# 便利なGitコマンドのチートシート\n",
        "cheatsheet = \"\"\"\n",
        "=== Git コマンドチートシート ===\n",
        "\n",
        "## 基本コマンド\n",
        "git init                    # リポジトリの初期化\n",
        "git status                  # 状態の確認\n",
        "git add <file>              # ファイルをステージング\n",
        "git add .                   # 全ファイルをステージング\n",
        "git commit -m \"message\"     # コミット\n",
        "git log                     # コミット履歴\n",
        "git log --oneline           # コミット履歴（簡潔版）\n",
        "\n",
        "## ブランチ操作\n",
        "git branch                  # ブランチ一覧\n",
        "git branch <name>           # ブランチ作成\n",
        "git checkout <branch>       # ブランチ切り替え\n",
        "git checkout -b <branch>    # ブランチ作成&切り替え\n",
        "git merge <branch>          # ブランチをマージ\n",
        "git branch -d <branch>      # ブランチ削除\n",
        "\n",
        "## リモート操作\n",
        "git remote -v               # リモート一覧\n",
        "git remote add origin <url> # リモート追加\n",
        "git push origin <branch>    # プッシュ\n",
        "git pull origin <branch>    # プル\n",
        "git clone <url>             # クローン\n",
        "\n",
        "## 取り消し操作\n",
        "git reset --soft HEAD~1     # 直前のコミットを取り消し（変更は保持）\n",
        "git reset --hard HEAD~1     # 直前のコミットを完全に取り消し\n",
        "git checkout -- <file>      # ファイルの変更を取り消し\n",
        "git revert <commit>         # コミットを打ち消すコミット\n",
        "\n",
        "## その他便利なコマンド\n",
        "git diff                    # 変更の差分表示\n",
        "git diff --staged           # ステージングした変更の差分\n",
        "git stash                   # 作業を一時保存\n",
        "git stash pop               # 一時保存を復元\n",
        "git tag <name>              # タグを作成\n",
        "git blame <file>            # 各行の最終変更者を表示\n",
        "\"\"\"\n",
        "\n",
        "print(cheatsheet)\n",
        "\n",
        "# チートシートをファイルに保存\n",
        "with open('git_cheatsheet.txt', 'w', encoding='utf-8') as f:\n",
        "    f.write(cheatsheet)\n",
        "\n",
        "!git add git_cheatsheet.txt\n",
        "!git commit -m \"Gitコマンドチートシートを追加\"\n",
        "!git push"
      ],
      "execution_count": null,
      "outputs": []
    },
    {
      "cell_type": "markdown",
      "metadata": {
        "id": "section-8"
      },
      "source": [
        "## 8. クリーンアップ（オプション）\n",
        "\n",
        "練習が終わったら、作成したブランチをクリーンアップできます。"
      ]
    },
    {
      "cell_type": "code",
      "metadata": {
        "id": "cleanup"
      },
      "source": [
        "# ローカルブランチの削除\n",
        "!git branch -d feature/update-readme-1\n",
        "!git branch -d feature/update-readme-2\n",
        "\n",
        "# 最終的な状態の確認\n",
        "print(\"=== 現在のブランチ ===\")\n",
        "!git branch\n",
        "print(\"\\n=== コミット履歴 ===\")\n",
        "!git log --oneline -n 5\n",
        "print(\"\\n=== プロジェクトファイル ===\")\n",
        "!ls -la"
      ],
      "execution_count": null,
      "outputs": []
    },
    {
      "cell_type": "markdown",
      "metadata": {
        "id": "conclusion"
      },
      "source": [
        "## まとめ\n",
        "\n",
        "このノートブックでは、以下の内容を学習しました：\n",
        "\n",
        "1. **Gitの基本設定** - ユーザー名とメールアドレスの設定\n",
        "2. **基本的なGitコマンド** - init, add, commit, status, log\n",
        "3. **GitHubとの連携** - リモートリポジトリの設定、push/pull\n",
        "4. **ブランチ操作** - ブランチの作成、切り替え、マージ\n",
        "5. **コンフリクトの解決** - マージコンフリクトの対処方法\n",
        "\n",
        "### 次のステップ\n",
        "\n",
        "- Pull Request（PR）の作成と管理\n",
        "- Git Flowなどのブランチ戦略\n",
        "- GitHub Actions（CI/CD）\n",
        "- より高度なGitコマンド（rebase, cherry-pick など）\n",
        "\n",
        "### 参考リンク\n",
        "\n",
        "- [Git公式ドキュメント](https://git-scm.com/doc)\n",
        "- [GitHub Docs](https://docs.github.com)\n",
        "- [Pro Git Book（日本語）](https://git-scm.com/book/ja/v2)"
      ]
    }
  ]
}